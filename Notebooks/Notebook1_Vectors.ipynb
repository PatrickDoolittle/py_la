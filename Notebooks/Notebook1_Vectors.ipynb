{
 "cells": [
  {
   "attachments": {},
   "cell_type": "markdown",
   "id": "f74da49b",
   "metadata": {},
   "source": [
    "# Study Notebook May 8, 2023\n",
    "## Linear Algebra in Python by Patrick Doolittle\n",
    "\n",
    "### Start of project\n",
    "\n",
    "This is where I will showcase the basic functionality of my Linear Algebra in Python application. The goal of which is to make linear algebra calculations and visualizations to learn more about the role of Linear Algebra in Machine Learning and Data Science."
   ]
  },
  {
   "cell_type": "code",
   "execution_count": 11,
   "id": "a57a5874",
   "metadata": {},
   "outputs": [],
   "source": [
    "import sys \n",
    "sys.path.append('..')\n",
    "\n",
    "from Matrix import *\n",
    "from Vector import Vector as myVector\n",
    "from Visualizations import *"
   ]
  },
  {
   "attachments": {},
   "cell_type": "markdown",
   "id": "b1576897",
   "metadata": {
    "scrolled": false
   },
   "source": [
    "### Vectors in $R^n$ \n",
    "Vectors are defined by the command \"Vector(List[float])\". They contain a list of their components, ordered. "
   ]
  },
  {
   "cell_type": "code",
   "execution_count": 12,
   "id": "2ab727da",
   "metadata": {},
   "outputs": [],
   "source": [
    "v1 = myVector([1,2,3])\n",
    "v2 = myVector([1,1,1])"
   ]
  },
  {
   "attachments": {},
   "cell_type": "markdown",
   "id": "eb7cbf6a",
   "metadata": {},
   "source": [
    "### Vector operations\n",
    "Vectors can be added together or subtracted to create a new vector of the same dimension. This is done by adding or subtracting the vectors element-wise"
   ]
  },
  {
   "cell_type": "code",
   "execution_count": 13,
   "id": "6c3cd230",
   "metadata": {},
   "outputs": [
    {
     "name": "stdout",
     "output_type": "stream",
     "text": [
      "[2.0, 3.0, 4.0]\n",
      "[0.0, 1.0, 2.0]\n"
     ]
    }
   ],
   "source": [
    "v3 = v1 + v2\n",
    "v4 = v1 - v2\n",
    "print(str(v3))\n",
    "print(str(v4))"
   ]
  },
  {
   "attachments": {},
   "cell_type": "markdown",
   "id": "aa9fdf78",
   "metadata": {},
   "source": [
    "### Introduction to Manim\n",
    "\n",
    "I will use 3blue1brown's manim library for in-notebook visualizations. I have created functionality to transform my objects into manim mobjects for display in manim Scenes. Manim animations are done by adding mobjects to a manim Scene class and then animating it. Here is a simple vector diagram showing a vector in the xy plane with a value [1,2]\n",
    "\n",
    "Manim scenes are rendered inside the python notebook by calling %manim, -s for a still image and -ql for a low quality render"
   ]
  },
  {
   "cell_type": "code",
   "execution_count": 14,
   "id": "4a78e561",
   "metadata": {},
   "outputs": [
    {
     "data": {
      "text/html": [
       "<pre style=\"white-space:pre;overflow-x:auto;line-height:normal;font-family:Menlo,'DejaVu Sans Mono',consolas,'Courier New',monospace\"><span style=\"color: #7fbfbf; text-decoration-color: #7fbfbf\">[05/09/23 14:40:41] </span><span style=\"color: #008000; text-decoration-color: #008000\">INFO    </span>                                                               <a href=\"file:///home/gaynar/.local/lib/python3.10/site-packages/manim/scene/scene_file_writer.py\" target=\"_blank\"><span style=\"color: #7f7f7f; text-decoration-color: #7f7f7f\">scene_file_writer.py</span></a><span style=\"color: #7f7f7f; text-decoration-color: #7f7f7f\">:</span><a href=\"file:///home/gaynar/.local/lib/python3.10/site-packages/manim/scene/scene_file_writer.py#736\" target=\"_blank\"><span style=\"color: #7f7f7f; text-decoration-color: #7f7f7f\">736</span></a>\n",
       "<span style=\"color: #7fbfbf; text-decoration-color: #7fbfbf\">                    </span>         <span style=\"color: #808000; text-decoration-color: #808000; font-weight: bold\">File</span> ready at                                                 <span style=\"color: #7f7f7f; text-decoration-color: #7f7f7f\">                        </span>\n",
       "<span style=\"color: #7fbfbf; text-decoration-color: #7fbfbf\">                    </span>         <span style=\"color: #008000; text-decoration-color: #008000\">'/home/gaynar/Documents/Github/py_la/Notebooks/media/images/N</span> <span style=\"color: #7f7f7f; text-decoration-color: #7f7f7f\">                        </span>\n",
       "<span style=\"color: #7fbfbf; text-decoration-color: #7fbfbf\">                    </span>         <span style=\"color: #008000; text-decoration-color: #008000\">otebooks/VectorDisplay_ManimCE_v0.17.3.png'</span>                   <span style=\"color: #7f7f7f; text-decoration-color: #7f7f7f\">                        </span>\n",
       "<span style=\"color: #7fbfbf; text-decoration-color: #7fbfbf\">                    </span>                                                                       <span style=\"color: #7f7f7f; text-decoration-color: #7f7f7f\">                        </span>\n",
       "</pre>\n"
      ],
      "text/plain": [
       "\u001b[2;36m[05/09/23 14:40:41]\u001b[0m\u001b[2;36m \u001b[0m\u001b[32mINFO    \u001b[0m                                                               \u001b]8;id=377608;file:///home/gaynar/.local/lib/python3.10/site-packages/manim/scene/scene_file_writer.py\u001b\\\u001b[2mscene_file_writer.py\u001b[0m\u001b]8;;\u001b\\\u001b[2m:\u001b[0m\u001b]8;id=549598;file:///home/gaynar/.local/lib/python3.10/site-packages/manim/scene/scene_file_writer.py#736\u001b\\\u001b[2m736\u001b[0m\u001b]8;;\u001b\\\n",
       "\u001b[2;36m                    \u001b[0m         \u001b[1;33mFile\u001b[0m ready at                                                 \u001b[2m                        \u001b[0m\n",
       "\u001b[2;36m                    \u001b[0m         \u001b[32m'/home/gaynar/Documents/Github/py_la/Notebooks/media/images/N\u001b[0m \u001b[2m                        \u001b[0m\n",
       "\u001b[2;36m                    \u001b[0m         \u001b[32motebooks/VectorDisplay_ManimCE_v0.17.3.png'\u001b[0m                   \u001b[2m                        \u001b[0m\n",
       "\u001b[2;36m                    \u001b[0m                                                                       \u001b[2m                        \u001b[0m\n"
      ]
     },
     "metadata": {},
     "output_type": "display_data"
    },
    {
     "data": {
      "text/html": [
       "<pre style=\"white-space:pre;overflow-x:auto;line-height:normal;font-family:Menlo,'DejaVu Sans Mono',consolas,'Courier New',monospace\"><span style=\"color: #7fbfbf; text-decoration-color: #7fbfbf\">                    </span><span style=\"color: #008000; text-decoration-color: #008000\">INFO    </span> <span style=\"color: #808000; text-decoration-color: #808000; font-weight: bold\">Rendered</span> VectorDisplay                                                    <a href=\"file:///home/gaynar/.local/lib/python3.10/site-packages/manim/scene/scene.py\" target=\"_blank\"><span style=\"color: #7f7f7f; text-decoration-color: #7f7f7f\">scene.py</span></a><span style=\"color: #7f7f7f; text-decoration-color: #7f7f7f\">:</span><a href=\"file:///home/gaynar/.local/lib/python3.10/site-packages/manim/scene/scene.py#241\" target=\"_blank\"><span style=\"color: #7f7f7f; text-decoration-color: #7f7f7f\">241</span></a>\n",
       "<span style=\"color: #7fbfbf; text-decoration-color: #7fbfbf\">                    </span>         <span style=\"color: #808000; text-decoration-color: #808000; font-weight: bold\">Played</span> <span style=\"color: #008000; text-decoration-color: #008000\">0</span> <span style=\"color: #808000; text-decoration-color: #808000; font-weight: bold\">animations</span>                                                       <span style=\"color: #7f7f7f; text-decoration-color: #7f7f7f\">            </span>\n",
       "</pre>\n"
      ],
      "text/plain": [
       "\u001b[2;36m                   \u001b[0m\u001b[2;36m \u001b[0m\u001b[32mINFO    \u001b[0m \u001b[1;33mRendered\u001b[0m VectorDisplay                                                    \u001b]8;id=238099;file:///home/gaynar/.local/lib/python3.10/site-packages/manim/scene/scene.py\u001b\\\u001b[2mscene.py\u001b[0m\u001b]8;;\u001b\\\u001b[2m:\u001b[0m\u001b]8;id=609139;file:///home/gaynar/.local/lib/python3.10/site-packages/manim/scene/scene.py#241\u001b\\\u001b[2m241\u001b[0m\u001b]8;;\u001b\\\n",
       "\u001b[2;36m                    \u001b[0m         \u001b[1;33mPlayed\u001b[0m \u001b[32m0\u001b[0m \u001b[1;33manimations\u001b[0m                                                       \u001b[2m            \u001b[0m\n"
      ]
     },
     "metadata": {},
     "output_type": "display_data"
    },
    {
     "data": {
      "image/png": "[encoded data removed]",
      "text/plain": [
       "<IPython.core.display.Image object>"
      ]
     },
     "metadata": {},
     "output_type": "display_data"
    }
   ],
   "source": [
    "manimv1 = vector_to_manim(v1)\n",
    "vec_scene = display_vectors([manimv1])\n",
    "\n",
    "%manim -s -ql vec_scene"
   ]
  },
  {
   "cell_type": "code",
   "execution_count": 15,
   "id": "2fca3c58",
   "metadata": {},
   "outputs": [
    {
     "data": {
      "text/html": [
       "<pre style=\"white-space:pre;overflow-x:auto;line-height:normal;font-family:Menlo,'DejaVu Sans Mono',consolas,'Courier New',monospace\"><span style=\"color: #7fbfbf; text-decoration-color: #7fbfbf\">[05/09/23 14:40:42] </span><span style=\"color: #800000; text-decoration-color: #800000; font-weight: bold\">ERROR   </span> LaTeX compilation error: LaTeX Error: <span style=\"color: #808000; text-decoration-color: #808000; font-weight: bold\">File</span> `standalone.cls'    <a href=\"file:///home/gaynar/.local/lib/python3.10/site-packages/manim/utils/tex_file_writing.py\" target=\"_blank\"><span style=\"color: #7f7f7f; text-decoration-color: #7f7f7f\">tex_file_writing.py</span></a><span style=\"color: #7f7f7f; text-decoration-color: #7f7f7f\">:</span><a href=\"file:///home/gaynar/.local/lib/python3.10/site-packages/manim/utils/tex_file_writing.py#285\" target=\"_blank\"><span style=\"color: #7f7f7f; text-decoration-color: #7f7f7f\">285</span></a>\n",
       "<span style=\"color: #7fbfbf; text-decoration-color: #7fbfbf\">                    </span>         not found.                                                     <span style=\"color: #7f7f7f; text-decoration-color: #7f7f7f\">                       </span>\n",
       "<span style=\"color: #7fbfbf; text-decoration-color: #7fbfbf\">                    </span>                                                                        <span style=\"color: #7f7f7f; text-decoration-color: #7f7f7f\">                       </span>\n",
       "</pre>\n"
      ],
      "text/plain": [
       "\u001b[2;36m[05/09/23 14:40:42]\u001b[0m\u001b[2;36m \u001b[0m\u001b[1;31mERROR   \u001b[0m LaTeX compilation error: LaTeX Error: \u001b[1;33mFile\u001b[0m `standalone.cls'    \u001b]8;id=797857;file:///home/gaynar/.local/lib/python3.10/site-packages/manim/utils/tex_file_writing.py\u001b\\\u001b[2mtex_file_writing.py\u001b[0m\u001b]8;;\u001b\\\u001b[2m:\u001b[0m\u001b]8;id=410784;file:///home/gaynar/.local/lib/python3.10/site-packages/manim/utils/tex_file_writing.py#285\u001b\\\u001b[2m285\u001b[0m\u001b]8;;\u001b\\\n",
       "\u001b[2;36m                    \u001b[0m         not found.                                                     \u001b[2m                       \u001b[0m\n",
       "\u001b[2;36m                    \u001b[0m                                                                        \u001b[2m                       \u001b[0m\n"
      ]
     },
     "metadata": {},
     "output_type": "display_data"
    },
    {
     "data": {
      "text/html": [
       "<pre style=\"white-space:pre;overflow-x:auto;line-height:normal;font-family:Menlo,'DejaVu Sans Mono',consolas,'Courier New',monospace\"><span style=\"color: #7fbfbf; text-decoration-color: #7fbfbf\">                    </span><span style=\"color: #800000; text-decoration-color: #800000; font-weight: bold\">ERROR   </span> Context of error:                                              <a href=\"file:///home/gaynar/.local/lib/python3.10/site-packages/manim/utils/tex_file_writing.py\" target=\"_blank\"><span style=\"color: #7f7f7f; text-decoration-color: #7f7f7f\">tex_file_writing.py</span></a><span style=\"color: #7f7f7f; text-decoration-color: #7f7f7f\">:</span><a href=\"file:///home/gaynar/.local/lib/python3.10/site-packages/manim/utils/tex_file_writing.py#319\" target=\"_blank\"><span style=\"color: #7f7f7f; text-decoration-color: #7f7f7f\">319</span></a>\n",
       "<span style=\"color: #7fbfbf; text-decoration-color: #7fbfbf\">                    </span>         -&gt; \\documentclass<span style=\"font-weight: bold\">[</span>preview<span style=\"font-weight: bold\">]{</span>standalone<span style=\"font-weight: bold\">}</span>                         <span style=\"color: #7f7f7f; text-decoration-color: #7f7f7f\">                       </span>\n",
       "<span style=\"color: #7fbfbf; text-decoration-color: #7fbfbf\">                    </span>                                                                        <span style=\"color: #7f7f7f; text-decoration-color: #7f7f7f\">                       </span>\n",
       "<span style=\"color: #7fbfbf; text-decoration-color: #7fbfbf\">                    </span>         \\usepackage<span style=\"font-weight: bold\">[</span>english<span style=\"font-weight: bold\">]{</span>babel<span style=\"font-weight: bold\">}</span>                                    <span style=\"color: #7f7f7f; text-decoration-color: #7f7f7f\">                       </span>\n",
       "<span style=\"color: #7fbfbf; text-decoration-color: #7fbfbf\">                    </span>         \\usepackage<span style=\"font-weight: bold\">{</span>amsmath<span style=\"font-weight: bold\">}</span>                                           <span style=\"color: #7f7f7f; text-decoration-color: #7f7f7f\">                       </span>\n",
       "<span style=\"color: #7fbfbf; text-decoration-color: #7fbfbf\">                    </span>                                                                        <span style=\"color: #7f7f7f; text-decoration-color: #7f7f7f\">                       </span>\n",
       "</pre>\n"
      ],
      "text/plain": [
       "\u001b[2;36m                   \u001b[0m\u001b[2;36m \u001b[0m\u001b[1;31mERROR   \u001b[0m Context of error:                                              \u001b]8;id=119394;file:///home/gaynar/.local/lib/python3.10/site-packages/manim/utils/tex_file_writing.py\u001b\\\u001b[2mtex_file_writing.py\u001b[0m\u001b]8;;\u001b\\\u001b[2m:\u001b[0m\u001b]8;id=685689;file:///home/gaynar/.local/lib/python3.10/site-packages/manim/utils/tex_file_writing.py#319\u001b\\\u001b[2m319\u001b[0m\u001b]8;;\u001b\\\n",
       "\u001b[2;36m                    \u001b[0m         -> \\documentclass\u001b[1m[\u001b[0mpreview\u001b[1m]\u001b[0m\u001b[1m{\u001b[0mstandalone\u001b[1m}\u001b[0m                         \u001b[2m                       \u001b[0m\n",
       "\u001b[2;36m                    \u001b[0m                                                                        \u001b[2m                       \u001b[0m\n",
       "\u001b[2;36m                    \u001b[0m         \\usepackage\u001b[1m[\u001b[0menglish\u001b[1m]\u001b[0m\u001b[1m{\u001b[0mbabel\u001b[1m}\u001b[0m                                    \u001b[2m                       \u001b[0m\n",
       "\u001b[2;36m                    \u001b[0m         \\usepackage\u001b[1m{\u001b[0mamsmath\u001b[1m}\u001b[0m                                           \u001b[2m                       \u001b[0m\n",
       "\u001b[2;36m                    \u001b[0m                                                                        \u001b[2m                       \u001b[0m\n"
      ]
     },
     "metadata": {},
     "output_type": "display_data"
    },
    {
     "data": {
      "text/html": [
       "<pre style=\"white-space:pre;overflow-x:auto;line-height:normal;font-family:Menlo,'DejaVu Sans Mono',consolas,'Courier New',monospace\"><span style=\"color: #7fbfbf; text-decoration-color: #7fbfbf\">                    </span><span style=\"color: #008000; text-decoration-color: #008000\">INFO    </span> You do not have package standalone.cls installed.              <a href=\"file:///home/gaynar/.local/lib/python3.10/site-packages/manim/utils/tex_file_writing.py\" target=\"_blank\"><span style=\"color: #7f7f7f; text-decoration-color: #7f7f7f\">tex_file_writing.py</span></a><span style=\"color: #7f7f7f; text-decoration-color: #7f7f7f\">:</span><a href=\"file:///home/gaynar/.local/lib/python3.10/site-packages/manim/utils/tex_file_writing.py#329\" target=\"_blank\"><span style=\"color: #7f7f7f; text-decoration-color: #7f7f7f\">329</span></a>\n",
       "</pre>\n"
      ],
      "text/plain": [
       "\u001b[2;36m                   \u001b[0m\u001b[2;36m \u001b[0m\u001b[32mINFO    \u001b[0m You do not have package standalone.cls installed.              \u001b]8;id=579211;file:///home/gaynar/.local/lib/python3.10/site-packages/manim/utils/tex_file_writing.py\u001b\\\u001b[2mtex_file_writing.py\u001b[0m\u001b]8;;\u001b\\\u001b[2m:\u001b[0m\u001b]8;id=771742;file:///home/gaynar/.local/lib/python3.10/site-packages/manim/utils/tex_file_writing.py#329\u001b\\\u001b[2m329\u001b[0m\u001b]8;;\u001b\\\n"
      ]
     },
     "metadata": {},
     "output_type": "display_data"
    },
    {
     "data": {
      "text/html": [
       "<pre style=\"white-space:pre;overflow-x:auto;line-height:normal;font-family:Menlo,'DejaVu Sans Mono',consolas,'Courier New',monospace\"><span style=\"color: #7fbfbf; text-decoration-color: #7fbfbf\">                    </span><span style=\"color: #008000; text-decoration-color: #008000\">INFO    </span> Install standalone.cls it using your LaTeX package manager, or <a href=\"file:///home/gaynar/.local/lib/python3.10/site-packages/manim/utils/tex_file_writing.py\" target=\"_blank\"><span style=\"color: #7f7f7f; text-decoration-color: #7f7f7f\">tex_file_writing.py</span></a><span style=\"color: #7f7f7f; text-decoration-color: #7f7f7f\">:</span><a href=\"file:///home/gaynar/.local/lib/python3.10/site-packages/manim/utils/tex_file_writing.py#329\" target=\"_blank\"><span style=\"color: #7f7f7f; text-decoration-color: #7f7f7f\">329</span></a>\n",
       "<span style=\"color: #7fbfbf; text-decoration-color: #7fbfbf\">                    </span>         check for typos.                                               <span style=\"color: #7f7f7f; text-decoration-color: #7f7f7f\">                       </span>\n",
       "</pre>\n"
      ],
      "text/plain": [
       "\u001b[2;36m                   \u001b[0m\u001b[2;36m \u001b[0m\u001b[32mINFO    \u001b[0m Install standalone.cls it using your LaTeX package manager, or \u001b]8;id=242215;file:///home/gaynar/.local/lib/python3.10/site-packages/manim/utils/tex_file_writing.py\u001b\\\u001b[2mtex_file_writing.py\u001b[0m\u001b]8;;\u001b\\\u001b[2m:\u001b[0m\u001b]8;id=113198;file:///home/gaynar/.local/lib/python3.10/site-packages/manim/utils/tex_file_writing.py#329\u001b\\\u001b[2m329\u001b[0m\u001b]8;;\u001b\\\n",
       "\u001b[2;36m                    \u001b[0m         check for typos.                                               \u001b[2m                       \u001b[0m\n"
      ]
     },
     "metadata": {},
     "output_type": "display_data"
    },
    {
     "data": {
      "text/html": [
       "<pre style=\"white-space:pre;overflow-x:auto;line-height:normal;font-family:Menlo,'DejaVu Sans Mono',consolas,'Courier New',monospace\"><span style=\"color: #7fbfbf; text-decoration-color: #7fbfbf\">                    </span><span style=\"color: #800000; text-decoration-color: #800000; font-weight: bold\">ERROR   </span> LaTeX compilation error: Emergency stop.                       <a href=\"file:///home/gaynar/.local/lib/python3.10/site-packages/manim/utils/tex_file_writing.py\" target=\"_blank\"><span style=\"color: #7f7f7f; text-decoration-color: #7f7f7f\">tex_file_writing.py</span></a><span style=\"color: #7f7f7f; text-decoration-color: #7f7f7f\">:</span><a href=\"file:///home/gaynar/.local/lib/python3.10/site-packages/manim/utils/tex_file_writing.py#285\" target=\"_blank\"><span style=\"color: #7f7f7f; text-decoration-color: #7f7f7f\">285</span></a>\n",
       "<span style=\"color: #7fbfbf; text-decoration-color: #7fbfbf\">                    </span>                                                                        <span style=\"color: #7f7f7f; text-decoration-color: #7f7f7f\">                       </span>\n",
       "</pre>\n"
      ],
      "text/plain": [
       "\u001b[2;36m                   \u001b[0m\u001b[2;36m \u001b[0m\u001b[1;31mERROR   \u001b[0m LaTeX compilation error: Emergency stop.                       \u001b]8;id=719011;file:///home/gaynar/.local/lib/python3.10/site-packages/manim/utils/tex_file_writing.py\u001b\\\u001b[2mtex_file_writing.py\u001b[0m\u001b]8;;\u001b\\\u001b[2m:\u001b[0m\u001b]8;id=529230;file:///home/gaynar/.local/lib/python3.10/site-packages/manim/utils/tex_file_writing.py#285\u001b\\\u001b[2m285\u001b[0m\u001b]8;;\u001b\\\n",
       "\u001b[2;36m                    \u001b[0m                                                                        \u001b[2m                       \u001b[0m\n"
      ]
     },
     "metadata": {},
     "output_type": "display_data"
    },
    {
     "data": {
      "text/html": [
       "<pre style=\"white-space:pre;overflow-x:auto;line-height:normal;font-family:Menlo,'DejaVu Sans Mono',consolas,'Courier New',monospace\"><span style=\"color: #7fbfbf; text-decoration-color: #7fbfbf\">                    </span><span style=\"color: #800000; text-decoration-color: #800000; font-weight: bold\">ERROR   </span> Context of error:                                              <a href=\"file:///home/gaynar/.local/lib/python3.10/site-packages/manim/utils/tex_file_writing.py\" target=\"_blank\"><span style=\"color: #7f7f7f; text-decoration-color: #7f7f7f\">tex_file_writing.py</span></a><span style=\"color: #7f7f7f; text-decoration-color: #7f7f7f\">:</span><a href=\"file:///home/gaynar/.local/lib/python3.10/site-packages/manim/utils/tex_file_writing.py#319\" target=\"_blank\"><span style=\"color: #7f7f7f; text-decoration-color: #7f7f7f\">319</span></a>\n",
       "<span style=\"color: #7fbfbf; text-decoration-color: #7fbfbf\">                    </span>         -&gt; \\documentclass<span style=\"font-weight: bold\">[</span>preview<span style=\"font-weight: bold\">]{</span>standalone<span style=\"font-weight: bold\">}</span>                         <span style=\"color: #7f7f7f; text-decoration-color: #7f7f7f\">                       </span>\n",
       "<span style=\"color: #7fbfbf; text-decoration-color: #7fbfbf\">                    </span>                                                                        <span style=\"color: #7f7f7f; text-decoration-color: #7f7f7f\">                       </span>\n",
       "<span style=\"color: #7fbfbf; text-decoration-color: #7fbfbf\">                    </span>         \\usepackage<span style=\"font-weight: bold\">[</span>english<span style=\"font-weight: bold\">]{</span>babel<span style=\"font-weight: bold\">}</span>                                    <span style=\"color: #7f7f7f; text-decoration-color: #7f7f7f\">                       </span>\n",
       "<span style=\"color: #7fbfbf; text-decoration-color: #7fbfbf\">                    </span>         \\usepackage<span style=\"font-weight: bold\">{</span>amsmath<span style=\"font-weight: bold\">}</span>                                           <span style=\"color: #7f7f7f; text-decoration-color: #7f7f7f\">                       </span>\n",
       "<span style=\"color: #7fbfbf; text-decoration-color: #7fbfbf\">                    </span>                                                                        <span style=\"color: #7f7f7f; text-decoration-color: #7f7f7f\">                       </span>\n",
       "</pre>\n"
      ],
      "text/plain": [
       "\u001b[2;36m                   \u001b[0m\u001b[2;36m \u001b[0m\u001b[1;31mERROR   \u001b[0m Context of error:                                              \u001b]8;id=168180;file:///home/gaynar/.local/lib/python3.10/site-packages/manim/utils/tex_file_writing.py\u001b\\\u001b[2mtex_file_writing.py\u001b[0m\u001b]8;;\u001b\\\u001b[2m:\u001b[0m\u001b]8;id=161219;file:///home/gaynar/.local/lib/python3.10/site-packages/manim/utils/tex_file_writing.py#319\u001b\\\u001b[2m319\u001b[0m\u001b]8;;\u001b\\\n",
       "\u001b[2;36m                    \u001b[0m         -> \\documentclass\u001b[1m[\u001b[0mpreview\u001b[1m]\u001b[0m\u001b[1m{\u001b[0mstandalone\u001b[1m}\u001b[0m                         \u001b[2m                       \u001b[0m\n",
       "\u001b[2;36m                    \u001b[0m                                                                        \u001b[2m                       \u001b[0m\n",
       "\u001b[2;36m                    \u001b[0m         \\usepackage\u001b[1m[\u001b[0menglish\u001b[1m]\u001b[0m\u001b[1m{\u001b[0mbabel\u001b[1m}\u001b[0m                                    \u001b[2m                       \u001b[0m\n",
       "\u001b[2;36m                    \u001b[0m         \\usepackage\u001b[1m{\u001b[0mamsmath\u001b[1m}\u001b[0m                                           \u001b[2m                       \u001b[0m\n",
       "\u001b[2;36m                    \u001b[0m                                                                        \u001b[2m                       \u001b[0m\n"
      ]
     },
     "metadata": {},
     "output_type": "display_data"
    },
    {
     "ename": "ValueError",
     "evalue": "latex error converting to dvi. See log output above or the log file: media/Tex/5707bd4d558c91bd.log",
     "output_type": "error",
     "traceback": [
      "\u001b[0;31m---------------------------------------------------------------------------\u001b[0m",
      "\u001b[0;31mValueError\u001b[0m                                Traceback (most recent call last)",
      "Cell \u001b[0;32mIn[15], line 7\u001b[0m\n\u001b[1;32m      4\u001b[0m mv2 \u001b[39m=\u001b[39m vector_to_manim(v2)\n\u001b[1;32m      5\u001b[0m addition_scene \u001b[39m=\u001b[39m add_vectors(mv1, mv2)\n\u001b[0;32m----> 7\u001b[0m get_ipython()\u001b[39m.\u001b[39;49mrun_line_magic(\u001b[39m'\u001b[39;49m\u001b[39mmanim\u001b[39;49m\u001b[39m'\u001b[39;49m, \u001b[39m'\u001b[39;49m\u001b[39m-qm addition_scene\u001b[39;49m\u001b[39m'\u001b[39;49m)\n",
      "File \u001b[0;32m/usr/lib/python3.10/site-packages/IPython/core/interactiveshell.py:2414\u001b[0m, in \u001b[0;36mInteractiveShell.run_line_magic\u001b[0;34m(self, magic_name, line, _stack_depth)\u001b[0m\n\u001b[1;32m   2412\u001b[0m     kwargs[\u001b[39m'\u001b[39m\u001b[39mlocal_ns\u001b[39m\u001b[39m'\u001b[39m] \u001b[39m=\u001b[39m \u001b[39mself\u001b[39m\u001b[39m.\u001b[39mget_local_scope(stack_depth)\n\u001b[1;32m   2413\u001b[0m \u001b[39mwith\u001b[39;00m \u001b[39mself\u001b[39m\u001b[39m.\u001b[39mbuiltin_trap:\n\u001b[0;32m-> 2414\u001b[0m     result \u001b[39m=\u001b[39m fn(\u001b[39m*\u001b[39;49margs, \u001b[39m*\u001b[39;49m\u001b[39m*\u001b[39;49mkwargs)\n\u001b[1;32m   2416\u001b[0m \u001b[39m# The code below prevents the output from being displayed\u001b[39;00m\n\u001b[1;32m   2417\u001b[0m \u001b[39m# when using magics with decodator @output_can_be_silenced\u001b[39;00m\n\u001b[1;32m   2418\u001b[0m \u001b[39m# when the last Python token in the expression is a ';'.\u001b[39;00m\n\u001b[1;32m   2419\u001b[0m \u001b[39mif\u001b[39;00m \u001b[39mgetattr\u001b[39m(fn, magic\u001b[39m.\u001b[39mMAGIC_OUTPUT_CAN_BE_SILENCED, \u001b[39mFalse\u001b[39;00m):\n",
      "File \u001b[0;32m~/.local/lib/python3.10/site-packages/manim/utils/ipython_magic.py:141\u001b[0m, in \u001b[0;36mManimMagic.manim\u001b[0;34m(self, line, cell, local_ns)\u001b[0m\n\u001b[1;32m    139\u001b[0m     SceneClass \u001b[39m=\u001b[39m local_ns[config[\u001b[39m\"\u001b[39m\u001b[39mscene_names\u001b[39m\u001b[39m\"\u001b[39m][\u001b[39m0\u001b[39m]]\n\u001b[1;32m    140\u001b[0m     scene \u001b[39m=\u001b[39m SceneClass(renderer\u001b[39m=\u001b[39mrenderer)\n\u001b[0;32m--> 141\u001b[0m     scene\u001b[39m.\u001b[39;49mrender()\n\u001b[1;32m    142\u001b[0m \u001b[39mfinally\u001b[39;00m:\n\u001b[1;32m    143\u001b[0m     \u001b[39m# Shader cache becomes invalid as the context is destroyed\u001b[39;00m\n\u001b[1;32m    144\u001b[0m     shader_program_cache\u001b[39m.\u001b[39mclear()\n",
      "File \u001b[0;32m~/.local/lib/python3.10/site-packages/manim/scene/scene.py:223\u001b[0m, in \u001b[0;36mScene.render\u001b[0;34m(self, preview)\u001b[0m\n\u001b[1;32m    221\u001b[0m \u001b[39mself\u001b[39m\u001b[39m.\u001b[39msetup()\n\u001b[1;32m    222\u001b[0m \u001b[39mtry\u001b[39;00m:\n\u001b[0;32m--> 223\u001b[0m     \u001b[39mself\u001b[39;49m\u001b[39m.\u001b[39;49mconstruct()\n\u001b[1;32m    224\u001b[0m \u001b[39mexcept\u001b[39;00m EndSceneEarlyException:\n\u001b[1;32m    225\u001b[0m     \u001b[39mpass\u001b[39;00m\n",
      "File \u001b[0;32m~/Documents/Github/py_la/Notebooks/../Visualizations.py:23\u001b[0m, in \u001b[0;36madd_vectors.<locals>.VectorAddition.construct\u001b[0;34m(self)\u001b[0m\n\u001b[1;32m     21\u001b[0m \u001b[39mdef\u001b[39;00m \u001b[39mconstruct\u001b[39m(\u001b[39mself\u001b[39m):\n\u001b[1;32m     22\u001b[0m     \u001b[39msum\u001b[39m \u001b[39m=\u001b[39m Vector(static\u001b[39m.\u001b[39mget_end() \u001b[39m+\u001b[39m operand\u001b[39m.\u001b[39mget_end())\n\u001b[0;32m---> 23\u001b[0m     sum_coordinate \u001b[39m=\u001b[39m \u001b[39msum\u001b[39;49m\u001b[39m.\u001b[39;49mcoordinate_label()\n\u001b[1;32m     24\u001b[0m     \u001b[39mself\u001b[39m\u001b[39m.\u001b[39madd(NumberPlane())\n\u001b[1;32m     25\u001b[0m     static_coordinates, operand_coordinates \u001b[39m=\u001b[39m static\u001b[39m.\u001b[39mcoordinate_label(), operand\u001b[39m.\u001b[39mcoordinate_label()\n",
      "File \u001b[0;32m~/.local/lib/python3.10/site-packages/manim/mobject/geometry/line.py:696\u001b[0m, in \u001b[0;36mVector.coordinate_label\u001b[0;34m(self, integer_labels, n_dim, color, **kwargs)\u001b[0m\n\u001b[1;32m    694\u001b[0m vect \u001b[39m=\u001b[39m vect[:n_dim]\n\u001b[1;32m    695\u001b[0m vect \u001b[39m=\u001b[39m vect\u001b[39m.\u001b[39mreshape((n_dim, \u001b[39m1\u001b[39m))\n\u001b[0;32m--> 696\u001b[0m label \u001b[39m=\u001b[39m Matrix(vect, \u001b[39m*\u001b[39;49m\u001b[39m*\u001b[39;49mkwargs)\n\u001b[1;32m    697\u001b[0m label\u001b[39m.\u001b[39mscale(LARGE_BUFF \u001b[39m-\u001b[39m \u001b[39m0.2\u001b[39m)\n\u001b[1;32m    699\u001b[0m shift_dir \u001b[39m=\u001b[39m np\u001b[39m.\u001b[39marray(\u001b[39mself\u001b[39m\u001b[39m.\u001b[39mget_end())\n",
      "File \u001b[0;32m~/.local/lib/python3.10/site-packages/manim/mobject/matrix.py:199\u001b[0m, in \u001b[0;36mMatrix.__init__\u001b[0;34m(self, matrix, v_buff, h_buff, bracket_h_buff, bracket_v_buff, add_background_rectangles_to_entries, include_background_rectangle, element_to_mobject, element_to_mobject_config, element_alignment_corner, left_bracket, right_bracket, stretch_brackets, bracket_config, **kwargs)\u001b[0m\n\u001b[1;32m    197\u001b[0m \u001b[39mself\u001b[39m\u001b[39m.\u001b[39mstretch_brackets \u001b[39m=\u001b[39m stretch_brackets\n\u001b[1;32m    198\u001b[0m \u001b[39msuper\u001b[39m()\u001b[39m.\u001b[39m\u001b[39m__init__\u001b[39m(\u001b[39m*\u001b[39m\u001b[39m*\u001b[39mkwargs)\n\u001b[0;32m--> 199\u001b[0m mob_matrix \u001b[39m=\u001b[39m \u001b[39mself\u001b[39;49m\u001b[39m.\u001b[39;49m_matrix_to_mob_matrix(matrix)\n\u001b[1;32m    200\u001b[0m \u001b[39mself\u001b[39m\u001b[39m.\u001b[39m_organize_mob_matrix(mob_matrix)\n\u001b[1;32m    201\u001b[0m \u001b[39mself\u001b[39m\u001b[39m.\u001b[39melements \u001b[39m=\u001b[39m VGroup(\u001b[39m*\u001b[39mit\u001b[39m.\u001b[39mchain(\u001b[39m*\u001b[39mmob_matrix))\n",
      "File \u001b[0;32m~/.local/lib/python3.10/site-packages/manim/mobject/matrix.py:213\u001b[0m, in \u001b[0;36mMatrix._matrix_to_mob_matrix\u001b[0;34m(self, matrix)\u001b[0m\n\u001b[1;32m    212\u001b[0m \u001b[39mdef\u001b[39;00m \u001b[39m_matrix_to_mob_matrix\u001b[39m(\u001b[39mself\u001b[39m, matrix):\n\u001b[0;32m--> 213\u001b[0m     \u001b[39mreturn\u001b[39;00m [\n\u001b[1;32m    214\u001b[0m         [\n\u001b[1;32m    215\u001b[0m             \u001b[39mself\u001b[39m\u001b[39m.\u001b[39melement_to_mobject(item, \u001b[39m*\u001b[39m\u001b[39m*\u001b[39m\u001b[39mself\u001b[39m\u001b[39m.\u001b[39melement_to_mobject_config)\n\u001b[1;32m    216\u001b[0m             \u001b[39mfor\u001b[39;00m item \u001b[39min\u001b[39;00m row\n\u001b[1;32m    217\u001b[0m         ]\n\u001b[1;32m    218\u001b[0m         \u001b[39mfor\u001b[39;00m row \u001b[39min\u001b[39;00m matrix\n\u001b[1;32m    219\u001b[0m     ]\n",
      "File \u001b[0;32m~/.local/lib/python3.10/site-packages/manim/mobject/matrix.py:214\u001b[0m, in \u001b[0;36m<listcomp>\u001b[0;34m(.0)\u001b[0m\n\u001b[1;32m    212\u001b[0m \u001b[39mdef\u001b[39;00m \u001b[39m_matrix_to_mob_matrix\u001b[39m(\u001b[39mself\u001b[39m, matrix):\n\u001b[1;32m    213\u001b[0m     \u001b[39mreturn\u001b[39;00m [\n\u001b[0;32m--> 214\u001b[0m         [\n\u001b[1;32m    215\u001b[0m             \u001b[39mself\u001b[39m\u001b[39m.\u001b[39melement_to_mobject(item, \u001b[39m*\u001b[39m\u001b[39m*\u001b[39m\u001b[39mself\u001b[39m\u001b[39m.\u001b[39melement_to_mobject_config)\n\u001b[1;32m    216\u001b[0m             \u001b[39mfor\u001b[39;00m item \u001b[39min\u001b[39;00m row\n\u001b[1;32m    217\u001b[0m         ]\n\u001b[1;32m    218\u001b[0m         \u001b[39mfor\u001b[39;00m row \u001b[39min\u001b[39;00m matrix\n\u001b[1;32m    219\u001b[0m     ]\n",
      "File \u001b[0;32m~/.local/lib/python3.10/site-packages/manim/mobject/matrix.py:215\u001b[0m, in \u001b[0;36m<listcomp>\u001b[0;34m(.0)\u001b[0m\n\u001b[1;32m    212\u001b[0m \u001b[39mdef\u001b[39;00m \u001b[39m_matrix_to_mob_matrix\u001b[39m(\u001b[39mself\u001b[39m, matrix):\n\u001b[1;32m    213\u001b[0m     \u001b[39mreturn\u001b[39;00m [\n\u001b[1;32m    214\u001b[0m         [\n\u001b[0;32m--> 215\u001b[0m             \u001b[39mself\u001b[39;49m\u001b[39m.\u001b[39;49melement_to_mobject(item, \u001b[39m*\u001b[39;49m\u001b[39m*\u001b[39;49m\u001b[39mself\u001b[39;49m\u001b[39m.\u001b[39;49melement_to_mobject_config)\n\u001b[1;32m    216\u001b[0m             \u001b[39mfor\u001b[39;00m item \u001b[39min\u001b[39;00m row\n\u001b[1;32m    217\u001b[0m         ]\n\u001b[1;32m    218\u001b[0m         \u001b[39mfor\u001b[39;00m row \u001b[39min\u001b[39;00m matrix\n\u001b[1;32m    219\u001b[0m     ]\n",
      "File \u001b[0;32m~/.local/lib/python3.10/site-packages/manim/mobject/text/tex_mobject.py:295\u001b[0m, in \u001b[0;36mMathTex.__init__\u001b[0;34m(self, arg_separator, substrings_to_isolate, tex_to_color_map, tex_environment, *tex_strings, **kwargs)\u001b[0m\n\u001b[1;32m    282\u001b[0m     \u001b[39mif\u001b[39;00m \u001b[39mself\u001b[39m\u001b[39m.\u001b[39mbrace_notation_split_occurred:\n\u001b[1;32m    283\u001b[0m         logger\u001b[39m.\u001b[39merror(\n\u001b[1;32m    284\u001b[0m             dedent(\n\u001b[1;32m    285\u001b[0m \u001b[39m                \u001b[39m\u001b[39m\"\"\"\\\u001b[39;00m\n\u001b[0;32m   (...)\u001b[0m\n\u001b[1;32m    293\u001b[0m             ),\n\u001b[1;32m    294\u001b[0m         )\n\u001b[0;32m--> 295\u001b[0m     \u001b[39mraise\u001b[39;00m compilation_error\n\u001b[1;32m    296\u001b[0m \u001b[39mself\u001b[39m\u001b[39m.\u001b[39mset_color_by_tex_to_color_map(\u001b[39mself\u001b[39m\u001b[39m.\u001b[39mtex_to_color_map)\n\u001b[1;32m    298\u001b[0m \u001b[39mif\u001b[39;00m \u001b[39mself\u001b[39m\u001b[39m.\u001b[39morganize_left_to_right:\n",
      "File \u001b[0;32m~/.local/lib/python3.10/site-packages/manim/mobject/text/tex_mobject.py:274\u001b[0m, in \u001b[0;36mMathTex.__init__\u001b[0;34m(self, arg_separator, substrings_to_isolate, tex_to_color_map, tex_environment, *tex_strings, **kwargs)\u001b[0m\n\u001b[1;32m    272\u001b[0m \u001b[39mself\u001b[39m\u001b[39m.\u001b[39mtex_strings \u001b[39m=\u001b[39m \u001b[39mself\u001b[39m\u001b[39m.\u001b[39m_break_up_tex_strings(tex_strings)\n\u001b[1;32m    273\u001b[0m \u001b[39mtry\u001b[39;00m:\n\u001b[0;32m--> 274\u001b[0m     \u001b[39msuper\u001b[39;49m()\u001b[39m.\u001b[39;49m\u001b[39m__init__\u001b[39;49m(\n\u001b[1;32m    275\u001b[0m         \u001b[39mself\u001b[39;49m\u001b[39m.\u001b[39;49marg_separator\u001b[39m.\u001b[39;49mjoin(\u001b[39mself\u001b[39;49m\u001b[39m.\u001b[39;49mtex_strings),\n\u001b[1;32m    276\u001b[0m         tex_environment\u001b[39m=\u001b[39;49m\u001b[39mself\u001b[39;49m\u001b[39m.\u001b[39;49mtex_environment,\n\u001b[1;32m    277\u001b[0m         tex_template\u001b[39m=\u001b[39;49m\u001b[39mself\u001b[39;49m\u001b[39m.\u001b[39;49mtex_template,\n\u001b[1;32m    278\u001b[0m         \u001b[39m*\u001b[39;49m\u001b[39m*\u001b[39;49mkwargs,\n\u001b[1;32m    279\u001b[0m     )\n\u001b[1;32m    280\u001b[0m     \u001b[39mself\u001b[39m\u001b[39m.\u001b[39m_break_up_by_substrings()\n\u001b[1;32m    281\u001b[0m \u001b[39mexcept\u001b[39;00m \u001b[39mValueError\u001b[39;00m \u001b[39mas\u001b[39;00m compilation_error:\n",
      "File \u001b[0;32m~/.local/lib/python3.10/site-packages/manim/mobject/text/tex_mobject.py:83\u001b[0m, in \u001b[0;36mSingleStringMathTex.__init__\u001b[0;34m(self, tex_string, stroke_width, should_center, height, organize_left_to_right, tex_environment, tex_template, font_size, **kwargs)\u001b[0m\n\u001b[1;32m     81\u001b[0m \u001b[39massert\u001b[39;00m \u001b[39misinstance\u001b[39m(tex_string, \u001b[39mstr\u001b[39m)\n\u001b[1;32m     82\u001b[0m \u001b[39mself\u001b[39m\u001b[39m.\u001b[39mtex_string \u001b[39m=\u001b[39m tex_string\n\u001b[0;32m---> 83\u001b[0m file_name \u001b[39m=\u001b[39m tex_to_svg_file(\n\u001b[1;32m     84\u001b[0m     \u001b[39mself\u001b[39;49m\u001b[39m.\u001b[39;49m_get_modified_expression(tex_string),\n\u001b[1;32m     85\u001b[0m     environment\u001b[39m=\u001b[39;49m\u001b[39mself\u001b[39;49m\u001b[39m.\u001b[39;49mtex_environment,\n\u001b[1;32m     86\u001b[0m     tex_template\u001b[39m=\u001b[39;49m\u001b[39mself\u001b[39;49m\u001b[39m.\u001b[39;49mtex_template,\n\u001b[1;32m     87\u001b[0m )\n\u001b[1;32m     88\u001b[0m \u001b[39msuper\u001b[39m()\u001b[39m.\u001b[39m\u001b[39m__init__\u001b[39m(\n\u001b[1;32m     89\u001b[0m     file_name\u001b[39m=\u001b[39mfile_name,\n\u001b[1;32m     90\u001b[0m     should_center\u001b[39m=\u001b[39mshould_center,\n\u001b[0;32m   (...)\u001b[0m\n\u001b[1;32m     97\u001b[0m     \u001b[39m*\u001b[39m\u001b[39m*\u001b[39mkwargs,\n\u001b[1;32m     98\u001b[0m )\n\u001b[1;32m     99\u001b[0m \u001b[39mself\u001b[39m\u001b[39m.\u001b[39minit_colors()\n",
      "File \u001b[0;32m~/.local/lib/python3.10/site-packages/manim/utils/tex_file_writing.py:54\u001b[0m, in \u001b[0;36mtex_to_svg_file\u001b[0;34m(expression, environment, tex_template)\u001b[0m\n\u001b[1;32m     52\u001b[0m     tex_template \u001b[39m=\u001b[39m config[\u001b[39m\"\u001b[39m\u001b[39mtex_template\u001b[39m\u001b[39m\"\u001b[39m]\n\u001b[1;32m     53\u001b[0m tex_file \u001b[39m=\u001b[39m generate_tex_file(expression, environment, tex_template)\n\u001b[0;32m---> 54\u001b[0m dvi_file \u001b[39m=\u001b[39m compile_tex(\n\u001b[1;32m     55\u001b[0m     tex_file,\n\u001b[1;32m     56\u001b[0m     tex_template\u001b[39m.\u001b[39;49mtex_compiler,\n\u001b[1;32m     57\u001b[0m     tex_template\u001b[39m.\u001b[39;49moutput_format,\n\u001b[1;32m     58\u001b[0m )\n\u001b[1;32m     59\u001b[0m \u001b[39mreturn\u001b[39;00m convert_to_svg(dvi_file, tex_template\u001b[39m.\u001b[39moutput_format)\n",
      "File \u001b[0;32m~/.local/lib/python3.10/site-packages/manim/utils/tex_file_writing.py:201\u001b[0m, in \u001b[0;36mcompile_tex\u001b[0;34m(tex_file, tex_compiler, output_format)\u001b[0m\n\u001b[1;32m    199\u001b[0m         log_file \u001b[39m=\u001b[39m tex_file\u001b[39m.\u001b[39mwith_suffix(\u001b[39m\"\u001b[39m\u001b[39m.log\u001b[39m\u001b[39m\"\u001b[39m)\n\u001b[1;32m    200\u001b[0m         print_all_tex_errors(log_file, tex_compiler, tex_file)\n\u001b[0;32m--> 201\u001b[0m         \u001b[39mraise\u001b[39;00m \u001b[39mValueError\u001b[39;00m(\n\u001b[1;32m    202\u001b[0m             \u001b[39mf\u001b[39m\u001b[39m\"\u001b[39m\u001b[39m{\u001b[39;00mtex_compiler\u001b[39m}\u001b[39;00m\u001b[39m error converting to\u001b[39m\u001b[39m\"\u001b[39m\n\u001b[1;32m    203\u001b[0m             \u001b[39mf\u001b[39m\u001b[39m\"\u001b[39m\u001b[39m \u001b[39m\u001b[39m{\u001b[39;00moutput_format[\u001b[39m1\u001b[39m:]\u001b[39m}\u001b[39;00m\u001b[39m. See log output above or\u001b[39m\u001b[39m\"\u001b[39m\n\u001b[1;32m    204\u001b[0m             \u001b[39mf\u001b[39m\u001b[39m\"\u001b[39m\u001b[39m the log file: \u001b[39m\u001b[39m{\u001b[39;00mlog_file\u001b[39m}\u001b[39;00m\u001b[39m\"\u001b[39m,\n\u001b[1;32m    205\u001b[0m         )\n\u001b[1;32m    206\u001b[0m \u001b[39mreturn\u001b[39;00m result\n",
      "\u001b[0;31mValueError\u001b[0m: latex error converting to dvi. See log output above or the log file: media/Tex/5707bd4d558c91bd.log"
     ]
    }
   ],
   "source": [
    "v1 = myVector([3,1])\n",
    "v2 = myVector([2,2])\n",
    "mv1 = vector_to_manim(v1)\n",
    "mv2 = vector_to_manim(v2)\n",
    "addition_scene = add_vectors(mv1, mv2)\n",
    "\n",
    "%manim -qm addition_scene"
   ]
  }
 ],
 "metadata": {
  "kernelspec": {
   "display_name": "Python 3 (ipykernel)",
   "language": "python",
   "name": "python3"
  },
  "language_info": {
   "codemirror_mode": {
    "name": "ipython",
    "version": 3
   },
   "file_extension": ".py",
   "mimetype": "text/x-python",
   "name": "python",
   "nbconvert_exporter": "python",
   "pygments_lexer": "ipython3",
   "version": "3.10.10"
  }
 },
 "nbformat": 4,
 "nbformat_minor": 5
}
