{
 "cells": [
  {
   "cell_type": "code",
   "execution_count": 2,
   "metadata": {},
   "outputs": [],
   "source": [
    "import sys \n",
    "sys.path.append('..')\n",
    "\n",
    "import numpy as np\n",
    "import matplotlib.pyplot as plt\n",
    "from linearRegression import *\n",
    "from Matrix import Matrix as myMatrix\n",
    "from Vector import *"
   ]
  },
  {
   "attachments": {},
   "cell_type": "markdown",
   "metadata": {},
   "source": [
    "# The Four Fundamental Subspaces\n",
    "\n",
    "##### Patrick Doolittle\n",
    "##### 2023/5/23\n",
    "This ipython notebook will chronicle my studies of the four fundamental subspaces in Linear Algebra matrices via the book \"Linear Algebra and its Applications\" by Gilbert Strang."
   ]
  },
  {
   "cell_type": "code",
   "execution_count": 4,
   "metadata": {},
   "outputs": [
    {
     "name": "stdout",
     "output_type": "stream",
     "text": [
      "3x3 Matrix: \n",
      "[8.0, 9.0, 2.0]\n",
      "[17.0, 40.0, 7.0]\n",
      "[6.0, 12.0, 4.0]\n"
     ]
    }
   ],
   "source": [
    "m1 = Matrix([Vector([8,17,6]),Vector([9,40,12]),Vector([2,7,4])])\n",
    "print(m1)"
   ]
  },
  {
   "attachments": {},
   "cell_type": "markdown",
   "metadata": {},
   "source": [
    "### Vector Spaces and Subspaces\n",
    "A vector space is an abstraction of a set of vectors that share certain properties. A vector space is a set of vectors along with an addition and multiplication operation over that set of vectors that satisfies the conditions of closure, associativity, commutivity, and identity. All vector spaces contain the zero vector and the additive inverse of each vector in the space. The basis of a subspace is the spanning set of independent vectors that can be used to create any vector in the subspace. \n",
    "\n",
    "### The Column Space or Image\n",
    "\n",
    "If we treat the columns of a matrix as vectors, then they will span a space together called the column space. Left multiplication effectively takes a linear combination of these vectors, so left multiplication by a matrix results in a vector in the column space\n",
    "\n",
    "$$ Xb = \\begin{bmatrix} \\vec{\\text{column 1}} & \\vec{\\text{column 2}} \\end{bmatrix} \\vec{v}  =  v_1 (\\vec{\\text{column 1}}) + v_2 (\\vec{\\text{column 2}}) $$\n",
    "\n",
    "If we have the system of linear equations $Xb =y$, we essentially have a linear mapping operation from $b$ to the column space of $X$. If $y$ is not in the column space, this mapping is not possible and therefore can't be solved for $b$.\n",
    "\n",
    "Thus the column space of $X$ is the set of all output vectors $y$ such that $Xv=y$ for any input vector $v$. It is a subspace of the possible output space $R^m$ (given X is a linear mapping from $\\mathbb{R^n}$ to $\\mathbb{R^m}$). \n",
    "\n",
    "### The Null Space or Kernel\n",
    "\n",
    "Conversely the null space is a subspace of the input space $R^n$ such that $Xv=0$ for any vector $v$ in the null space. The null space is the set of all vectors that are mapped to the zero vector by $X$. When you reduce a matrix you find the basic variables defined in terms of the free variables. The basis for the null space is found by finding the vectors where each one free variable is set to 1 and the rest are set to 0, this will result in a vector.\n",
    "\n",
    "$$ X = \\begin{bmatrix} 1 & 3 & 3 & 2 \\\\ 2 & 6 & 9 & 7 \\\\ -1 & -3 & 3 & 4 \\end{bmatrix} $$\n",
    "Add -2 times the first row to the second and 1 times the first row to the third.\n",
    "$$ X = \\begin{bmatrix} 1 & 3 & 3 & 2 \\\\ 0 & 0 & 3 & 3 \\\\ 0 & 0 & 6 & 6 \\end{bmatrix} $$\n",
    "$$ X = \\begin{bmatrix} 1 & 3 & 3 & 2 \\\\ 0 & 0 & 1 & 1 \\\\ 0 & 0 & 0 & 0 \\end{bmatrix} $$\n",
    "$$ X = \\begin{bmatrix} 1 & 3 & 0 & -1 \\\\ 0 & 0 & 1 & 1 \\\\ 0 & 0 & 0 & 0 \\end{bmatrix} $$\n",
    "\n",
    "Since we are solving for the zero vector, we know the constant in each of these systems is $0$.\n",
    "$$x_1 + 3x_2 - x_4 = 0$$\n",
    "$$x_3 + x_4 = 0$$\n",
    "\n",
    "The rank of this matrix is $2$, so there are two basic variables out of the total four variables. This means we can select two arbitrary free variables when finding a basis for the nullspace.\n",
    "Let's select $x_2$ and $x_4$ since these were the columns without pivots.\n",
    "\n",
    "$$x_2 = 1, x_4 = 0, x_1 = -3, x_3 = 0 \\to [-3, 1, 0, 0]$$\n",
    "$$x_4 = 1, x_2 = 0, x_1 = 3, x_3 = -1 \\to [-1, 0, -1, 1]$$\n"
   ]
  },
  {
   "attachments": {},
   "cell_type": "markdown",
   "metadata": {},
   "source": [
    "### Orthogonal Subspaces\n",
    "The row space and null space of a matrix are orthogonal to each other. No multiple of the reduced rows of $X$ or any vector in their span will be in the nullspace."
   ]
  },
  {
   "attachments": {},
   "cell_type": "markdown",
   "metadata": {},
   "source": [
    "### Rank and Dimension\n",
    "Rank is the number of linearly independent columns in a matrix. It is found by row reducing a matrix and checking for zero rows which indicate redundant rows or linealry dependent columns. The rank of a matrix is also equal to the dimension of the column and row space. The dimension of the null space is the complement to the dimension of the column space.\n",
    "\n",
    "$\\text{Column Space Dimension} = \\text{Row Space Dimension} = \\text{Rank}(X)$\n",
    "$\\text{Null Space Dimension} = \\text{Number of Columns} - \\text{Rank}(X)$\n",
    "\n",
    "In the case of simple linear regression, the rank is typically 2 so the matrix is full rank and therefore the nullity is $0$, only the zero vector is mapped to the zero vector.\n",
    "\n",
    "<img src=\"FundamentalSpaces.png\" alt=\"title\" width=\"600\" height=\"400\">\n"
   ]
  },
  {
   "attachments": {},
   "cell_type": "markdown",
   "metadata": {},
   "source": []
  }
 ],
 "metadata": {
  "kernelspec": {
   "display_name": "Python 3",
   "language": "python",
   "name": "python3"
  },
  "language_info": {
   "codemirror_mode": {
    "name": "ipython",
    "version": 3
   },
   "file_extension": ".py",
   "mimetype": "text/x-python",
   "name": "python",
   "nbconvert_exporter": "python",
   "pygments_lexer": "ipython3",
   "version": "3.11.3"
  },
  "orig_nbformat": 4
 },
 "nbformat": 4,
 "nbformat_minor": 2
}
