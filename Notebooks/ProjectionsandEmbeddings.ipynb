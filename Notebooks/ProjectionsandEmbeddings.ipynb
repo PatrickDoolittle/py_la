{
 "cells": [
  {
   "cell_type": "code",
   "execution_count": 16,
   "metadata": {},
   "outputs": [],
   "source": [
    "import sys \n",
    "sys.path.append('..')\n",
    "\n",
    "import numpy as np\n",
    "import matplotlib.pyplot as plt\n",
    "from linearRegression import *\n",
    "from Matrix import Matrix as myMatrix\n",
    "from Vector import *"
   ]
  },
  {
   "attachments": {},
   "cell_type": "markdown",
   "metadata": {},
   "source": [
    "# Embeddings and Projections\n",
    "### Patrick Doolittle\n",
    "### 5/26/2023\n",
    "\n",
    "This notebook will explore the use of embeddings and projections in linear algebra. Embeddings are linear transformations that map from a low dimensional space to a higher dimensional space. Projections are linear transformations that map from a higher dimensional space to a lower dimensional space. We will explore the use of embeddings and projections in the context of simple linear regression."
   ]
  },
  {
   "attachments": {},
   "cell_type": "markdown",
   "metadata": {},
   "source": [
    "### Embeddings"
   ]
  },
  {
   "cell_type": "code",
   "execution_count": 17,
   "metadata": {},
   "outputs": [
    {
     "name": "stdout",
     "output_type": "stream",
     "text": [
      "3x2 Matrix: \n",
      "[1.0, 0.0]\n",
      "[0.0, 1.0]\n",
      "[0.0, 0.0]\n"
     ]
    }
   ],
   "source": [
    "embedding = Matrix([Vector([1, 0, 0]), Vector([0, 1, 0])])\n",
    "print(embedding)"
   ]
  },
  {
   "attachments": {},
   "cell_type": "markdown",
   "metadata": {},
   "source": [
    "This is the simplest embedding, it takes the original basis vectors and just directly embeds them in the higher dimension without any transformation. The columns of the matrix span the range of the matrix, the xy plane. The rows of the matrix correspond to the linear combinations of the original basis vectors that make up the new basis vectors. So an embedding takes a linear combination of the original basis vectors"
   ]
  },
  {
   "cell_type": "code",
   "execution_count": 18,
   "metadata": {},
   "outputs": [
    {
     "name": "stdout",
     "output_type": "stream",
     "text": [
      "[3.0, 2.0, 0.0]\n",
      "[1.0, 2.0, 0.0]\n",
      "[10.0, 11.0, 0.0]\n"
     ]
    }
   ],
   "source": [
    "v1 = Vector([3, 2])\n",
    "v2 = Vector([1, 2])\n",
    "v3 = Vector([10, 11])\n",
    "\n",
    "v_list = [v1, v2, v3]\n",
    "for v in v_list:\n",
    "    print(embedding * v)\n"
   ]
  },
  {
   "cell_type": "code",
   "execution_count": 19,
   "metadata": {},
   "outputs": [
    {
     "name": "stdout",
     "output_type": "stream",
     "text": [
      "3x2 Matrix: \n",
      "[1.0, 0.0]\n",
      "[0.0, 1.0]\n",
      "[2.0, 3.0]\n",
      "3x2 Matrix: \n",
      "[2.0, 0.0]\n",
      "[0.0, -3.0]\n",
      "[2.0, 0.0]\n"
     ]
    }
   ],
   "source": [
    "embedding2 = Matrix([Vector([1, 0, 2]), Vector([0, 1, 3])])\n",
    "embedding3 = Matrix([Vector([2, 0, 2]), Vector([0, -3, 0])])\n",
    "embeddings = [embedding2, embedding3]\n",
    "print(embedding2)\n",
    "print(embedding3)"
   ]
  },
  {
   "cell_type": "code",
   "execution_count": 20,
   "metadata": {},
   "outputs": [
    {
     "name": "stdout",
     "output_type": "stream",
     "text": [
      "3x2 Matrix: \n",
      "[1.0, 0.0]\n",
      "[0.0, 1.0]\n",
      "[2.0, 3.0]\n",
      "\n",
      "original vector: [3.0, 2.0]\n",
      "new vector: [3.0, 2.0, 12.0]\n",
      "\n",
      "\n",
      "original vector: [1.0, 2.0]\n",
      "new vector: [1.0, 2.0, 8.0]\n",
      "\n",
      "\n",
      "original vector: [10.0, 11.0]\n",
      "new vector: [10.0, 11.0, 53.0]\n",
      "\n",
      "\n",
      "3x2 Matrix: \n",
      "[2.0, 0.0]\n",
      "[0.0, -3.0]\n",
      "[2.0, 0.0]\n",
      "\n",
      "original vector: [3.0, 2.0]\n",
      "new vector: [6.0, -6.0, 6.0]\n",
      "\n",
      "\n",
      "original vector: [1.0, 2.0]\n",
      "new vector: [2.0, -6.0, 2.0]\n",
      "\n",
      "\n",
      "original vector: [10.0, 11.0]\n",
      "new vector: [20.0, -33.0, 20.0]\n",
      "\n",
      "\n"
     ]
    }
   ],
   "source": [
    "for embedding in embeddings:\n",
    "    print(str(embedding) + '\\n')\n",
    "    for v in v_list:\n",
    "        print('original vector: ' + str(v))\n",
    "        print('new vector: ' + str(embedding * v))\n",
    "        print('\\n')"
   ]
  },
  {
   "attachments": {},
   "cell_type": "markdown",
   "metadata": {},
   "source": [
    "### Embeddings Analysis\n",
    "\n",
    "Notice how the third value of these vectors in the *new* dimension in $\\mathbb{R}$ is formed as a linear combination of the two original basis vectors. In fact, every value in the new vector is a linear combination of the original two values. The three rows of the matrix correspond to the linear combinations of the original basis vectors that make up the new basis vectors. So an embedding finds many linear combinations $(3)$ of fewer basis vectors $(2)$ to create a *new* vector in the higher dimensional space.\n",
    "\n",
    "### Projections\n",
    "The last matrix  embedded vectors in $\\mathbb{R^2}$ to $\\mathbb{R^3}$. This matrix will take vectors in $\\mathbb{R^3}$ and *project* them down to $\\mathbb{R^2}$"
   ]
  },
  {
   "cell_type": "code",
   "execution_count": 21,
   "metadata": {},
   "outputs": [
    {
     "name": "stdout",
     "output_type": "stream",
     "text": [
      "2x3 Matrix: \n",
      "[1.0, 0.0, 0.0]\n",
      "[0.0, 1.0, 0.0]\n",
      "\n",
      "2x3 Matrix: \n",
      "[1.0, 0.0, 1.0]\n",
      "[0.0, 1.0, 1.0]\n",
      "\n",
      "2x3 Matrix: \n",
      "[1.0, 0.0, 3.0]\n",
      "[0.0, 1.0, -5.0]\n",
      "\n"
     ]
    }
   ],
   "source": [
    "# Matrices of rows m and columns n are linear maps from R^n to R^m. Since we want to map from R^3 to R^2, we need a 2x3 matrix.\n",
    "projection1 = Matrix([Vector([1, 0]), Vector([0, 1]), Vector([0, 0])])\n",
    "projection2 = Matrix([Vector([1, 0]), Vector([0, 1]), Vector([1, 1])])\n",
    "projection3 = Matrix([Vector([1, 0]), Vector([0, 1]), Vector([3, -5])])\n",
    "projections = [projection1, projection2, projection3]\n",
    "\n",
    "for projection in projections:\n",
    "    print(str(projection) + '\\n')"
   ]
  },
  {
   "cell_type": "code",
   "execution_count": 22,
   "metadata": {},
   "outputs": [
    {
     "name": "stdout",
     "output_type": "stream",
     "text": [
      "2x3 Matrix: \n",
      "[1.0, 0.0, 0.0]\n",
      "[0.0, 1.0, 0.0]\n",
      "\n",
      "original vector: [1.0, 0.0, 0.0]\n",
      "new vector: [1.0, 0.0]\n",
      "\n",
      "\n",
      "original vector: [1.0, 1.0, 1.0]\n",
      "new vector: [1.0, 1.0]\n",
      "\n",
      "\n",
      "original vector: [1.0, 2.0, 3.0]\n",
      "new vector: [1.0, 2.0]\n",
      "\n",
      "\n",
      "original vector: [1.0, 3.0, 6.0]\n",
      "new vector: [1.0, 3.0]\n",
      "\n",
      "\n",
      "2x3 Matrix: \n",
      "[1.0, 0.0, 1.0]\n",
      "[0.0, 1.0, 1.0]\n",
      "\n",
      "original vector: [1.0, 0.0, 0.0]\n",
      "new vector: [1.0, 0.0]\n",
      "\n",
      "\n",
      "original vector: [1.0, 1.0, 1.0]\n",
      "new vector: [2.0, 2.0]\n",
      "\n",
      "\n",
      "original vector: [1.0, 2.0, 3.0]\n",
      "new vector: [4.0, 5.0]\n",
      "\n",
      "\n",
      "original vector: [1.0, 3.0, 6.0]\n",
      "new vector: [7.0, 9.0]\n",
      "\n",
      "\n",
      "2x3 Matrix: \n",
      "[1.0, 0.0, 3.0]\n",
      "[0.0, 1.0, -5.0]\n",
      "\n",
      "original vector: [1.0, 0.0, 0.0]\n",
      "new vector: [1.0, 0.0]\n",
      "\n",
      "\n",
      "original vector: [1.0, 1.0, 1.0]\n",
      "new vector: [4.0, -4.0]\n",
      "\n",
      "\n",
      "original vector: [1.0, 2.0, 3.0]\n",
      "new vector: [10.0, -13.0]\n",
      "\n",
      "\n",
      "original vector: [1.0, 3.0, 6.0]\n",
      "new vector: [19.0, -27.0]\n",
      "\n",
      "\n"
     ]
    }
   ],
   "source": [
    "v1 = Vector([1, 0, 0])\n",
    "v2 = Vector([1, 1, 1])\n",
    "v3 = Vector([1, 2, 3])\n",
    "v4 = Vector([1, 3, 6])\n",
    "v_list = [v1, v2, v3, v4]\n",
    "\n",
    "for projection in projections:\n",
    "    print(str(projection) + '\\n')\n",
    "    for v in v_list:\n",
    "        print('original vector: ' + str(v))\n",
    "        print('new vector: ' + str(projection * v))\n",
    "        print('\\n')"
   ]
  },
  {
   "attachments": {},
   "cell_type": "markdown",
   "metadata": {},
   "source": [
    "### Projections Analysis\n",
    "Like embeddings, projections take linear combinations of the original component vectors to make the new vector. However, projections take fewer linear combinations $(2)$ than the number of components $(3)$. In this way a high dimensional vector is *transformed* into a low-dimensional vector.\n",
    "\n",
    "### Orthogonal Projections \n",
    "When we project a vector onto a subspace, we effectively decompose the vector into it's components parallel and perpendicular to that space. The parallel component is $proj(u\\to W)$, and the perpendicular component is $u - proj(u \\to w)$.\n",
    "\n",
    "## Comparing Embeddings and Projections in Simple Linear Regression\n",
    "Embeddings take many linear combinations of few values, projections take few linear combinations of many values.\n",
    "\n",
    "$$ Xb = y $$\n",
    "$Xb$ is an embedding. It takes many linear combinations of the parameters in $b$ to find $y$. However there may be no $y$ that satisfies this solution, also X is not square so we can't invert the embedding.\n",
    "\n",
    "### Why can't embeddings and projections be inversed?\n",
    "\n"
   ]
  },
  {
   "attachments": {},
   "cell_type": "markdown",
   "metadata": {},
   "source": [
    "$$ X^TXb = X^Ty $$\n",
    "$$ b = (X^TX)^{-1}X^Ty $$"
   ]
  }
 ],
 "metadata": {
  "kernelspec": {
   "display_name": "Python 3",
   "language": "python",
   "name": "python3"
  },
  "language_info": {
   "codemirror_mode": {
    "name": "ipython",
    "version": 3
   },
   "file_extension": ".py",
   "mimetype": "text/x-python",
   "name": "python",
   "nbconvert_exporter": "python",
   "pygments_lexer": "ipython3",
   "version": "3.11.3"
  },
  "orig_nbformat": 4
 },
 "nbformat": 4,
 "nbformat_minor": 2
}
