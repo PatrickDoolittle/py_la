{
 "cells": [
  {
   "cell_type": "code",
   "execution_count": 1,
   "metadata": {},
   "outputs": [],
   "source": [
    "import sys \n",
    "sys.path.append('..')\n",
    "from Matrix import *\n",
    "from Vector import *\n",
    "import math"
   ]
  },
  {
   "cell_type": "markdown",
   "metadata": {},
   "source": [
    "##  Symmetric Matrices\n",
    "This will be a jupyter notebook where I will explore the properties of Symmetric matrices, particularly relating to their eigenvalues and eigenvectors."
   ]
  },
  {
   "cell_type": "code",
   "execution_count": 2,
   "metadata": {},
   "outputs": [
    {
     "name": "stdout",
     "output_type": "stream",
     "text": [
      "2x2 Matrix:\n",
      "[2.0, 0.5]\n",
      "[0.5, 2.0]\n"
     ]
    }
   ],
   "source": [
    "v_1 = Vector([2,.5])\n",
    "v_2 = Vector([.5,2])\n",
    "FirstSymmetric = Matrix([v_1,v_2])\n",
    "print(FirstSymmetric)"
   ]
  },
  {
   "cell_type": "markdown",
   "metadata": {},
   "source": [
    "The definition of a symmetric matrix is that it is equal to its transpose\n",
    "\n",
    "$ A = A^T $ \n",
    "\n",
    "$ \\begin{bmatrix} 2 & .5 \\\\ .5 & 2 \\end{bmatrix}^T = \\begin{bmatrix} 2 & .5 \\\\ .5 & 2 \\end{bmatrix}$"
   ]
  },
  {
   "cell_type": "code",
   "execution_count": 3,
   "metadata": {},
   "outputs": [
    {
     "name": "stdout",
     "output_type": "stream",
     "text": [
      "2x2 Matrix:\n",
      "[2.0, 0.5]\n",
      "[0.5, 2.0]\n"
     ]
    }
   ],
   "source": [
    "FirstSymmetricT = FirstSymmetric.transpose()\n",
    "print(FirstSymmetric)"
   ]
  },
  {
   "cell_type": "markdown",
   "metadata": {},
   "source": [
    "We can find the eigenvectors of this matrix by solving its *characteristic equation*. Let's define a function that finds the eigenvalues of a 2x2 matrix."
   ]
  },
  {
   "cell_type": "code",
   "execution_count": 4,
   "metadata": {},
   "outputs": [
    {
     "name": "stdout",
     "output_type": "stream",
     "text": [
      "2.5\n",
      "1.5\n"
     ]
    }
   ],
   "source": [
    "def eigenvalues(m):\n",
    "    # Calculate the characteristic equation (a - lambda)(d-lambda) - bc = 0\n",
    "    #                                        ad -alambda -dlambda + lambda^2 - bc = 0 \n",
    "    #                                        lambda^2 - (a+d) lambda + (ad - bc) = 0\n",
    "    #                 By the quadratic equation: lambda = [ -(a+d) +- sqrt((a+d^2) -4(1)(ad)) ] / 2 \n",
    "    a = m[0][0]\n",
    "    b = m[1][0]\n",
    "    c = m[0][1]\n",
    "    d = m[1][1]\n",
    "\n",
    "    positive_eigen = ((a+d) + math.sqrt((a+d)**2 - 4*(a*d-b*c)))/2\n",
    "    negative_eigen = ((a+d) - math.sqrt((a+d)**2 - 4*(a*d-b*c)))/2\n",
    "    print(positive_eigen)\n",
    "    print(negative_eigen)\n",
    "\n",
    "eigenvalues(FirstSymmetric)"
   ]
  },
  {
   "cell_type": "markdown",
   "metadata": {},
   "source": [
    "The eigenvalues are the times that special vectors called eigenvectors will be scaled by the matrix. To find the eigenvectors we find a basis for the nullspace of (A-lambda I)."
   ]
  },
  {
   "cell_type": "code",
   "execution_count": 5,
   "metadata": {},
   "outputs": [
    {
     "name": "stdout",
     "output_type": "stream",
     "text": [
      "[[1.0, 1]]\n",
      "[[-1.0, 1]]\n"
     ]
    }
   ],
   "source": [
    "IdentityEigen1 = Matrix([Vector([2.5,0]),Vector([0,2.5])])\n",
    "FirstSymmetricEigen1 = FirstSymmetric - IdentityEigen1\n",
    "Eigenvectors1= FirstSymmetricEigen1.nullbasis()\n",
    "print(Eigenvectors1)\n",
    "\n",
    "IdentityEigen2 = Matrix([Vector([1.5,0]),Vector([0,1.5])])\n",
    "FirstSymmetricEigen2 = FirstSymmetric - IdentityEigen2\n",
    "Eigenvectors2 = FirstSymmetricEigen2.nullbasis()\n",
    "print(Eigenvectors2)"
   ]
  },
  {
   "cell_type": "markdown",
   "metadata": {},
   "source": [
    "The thing about these eigenvectors is that they are not actually unique. Any multiple of them will also get scaled in the same manner. This is the effect we should come to expect with linear transformations\n",
    "\n",
    "$T\\vec{cv} = c T \\vec{v} = c \\lambda \\vec{v}$"
   ]
  },
  {
   "cell_type": "code",
   "execution_count": 6,
   "metadata": {},
   "outputs": [
    {
     "name": "stdout",
     "output_type": "stream",
     "text": [
      "[18.75, 18.75]\n",
      "[18.55, 18.7]\n"
     ]
    }
   ],
   "source": [
    "vec_cv = Vector([7.5,7.5])\n",
    "print(FirstSymmetric * vec_cv)\n",
    "\n",
    "vec_cv_tweaked = Vector([7.4,7.5])\n",
    "print(FirstSymmetric * vec_cv_tweaked)"
   ]
  },
  {
   "cell_type": "markdown",
   "metadata": {},
   "source": [
    "I recall that one property of symmetric matrices is that they will have orthogonal eigenvectors. Maybe we should try to visualize how the basis vectors are transformed under the effect of several different symmetric matrices so we can talk about their behavior in terms of spatial effects like stretching, shearing, and rotating."
   ]
  },
  {
   "cell_type": "code",
   "execution_count": 7,
   "metadata": {},
   "outputs": [
    {
     "name": "stdout",
     "output_type": "stream",
     "text": [
      "First eigenvalue: 1.0\n",
      "Second eigenvalue: 1.0\n",
      "First eigenvector: [[1, 0], [0, 1]]\n",
      "Second eigenvector: [[1, 0], [0, 1]]\n"
     ]
    }
   ],
   "source": [
    "def eigen(m):\n",
    "        # Calculate the characteristic equation (a - lambda)(d-lambda) - bc = 0\n",
    "    #                                        ad -alambda -dlambda + lambda^2 - bc = 0 \n",
    "    #                                        lambda^2 - (a+d) lambda + (ad - bc) = 0\n",
    "    #                 By the quadratic equation: lambda = [ -(a+d) +- sqrt((a+d^2) -4(1)(ad)) ] / 2 \n",
    "    a = m[0][0]\n",
    "    b = m[1][0]\n",
    "    c = m[0][1]\n",
    "    d = m[1][1]\n",
    "\n",
    "    positive_eigen = ((a+d) + math.sqrt((a+d)**2 - 4*(a*d-b*c)))/2\n",
    "    negative_eigen = ((a+d) - math.sqrt((a+d)**2 - 4*(a*d-b*c)))/2\n",
    "    print(\"First eigenvalue: \" + str(positive_eigen))\n",
    "    print(\"Second eigenvalue: \" + str(negative_eigen))\n",
    "\n",
    "    IdentityEigen1 = Matrix([Vector([positive_eigen,0]),Vector([0,positive_eigen])])\n",
    "    FirstSymmetricEigen1 = m - IdentityEigen1\n",
    "    Eigenvectors1= FirstSymmetricEigen1.nullbasis()\n",
    "    print(\"First eigenvector: \" + str(Eigenvectors1))\n",
    "\n",
    "    IdentityEigen2 = Matrix([Vector([negative_eigen,0]),Vector([0,negative_eigen])])\n",
    "    FirstSymmetricEigen2 = m - IdentityEigen2\n",
    "    Eigenvectors2 = FirstSymmetricEigen2.nullbasis()\n",
    "    print(\"Second eigenvector: \" + str(Eigenvectors2))\n",
    "    \n",
    "identity = Matrix([Vector([1,0]),Vector([0,1])])\n",
    "eigen(identity)"
   ]
  }
 ],
 "metadata": {
  "kernelspec": {
   "display_name": "Python 3",
   "language": "python",
   "name": "python3"
  },
  "language_info": {
   "codemirror_mode": {
    "name": "ipython",
    "version": 3
   },
   "file_extension": ".py",
   "mimetype": "text/x-python",
   "name": "python",
   "nbconvert_exporter": "python",
   "pygments_lexer": "ipython3",
   "version": "3.11.3"
  }
 },
 "nbformat": 4,
 "nbformat_minor": 2
}
