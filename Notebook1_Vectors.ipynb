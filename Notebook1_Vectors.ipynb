{
 "cells": [
  {
   "attachments": {},
   "cell_type": "markdown",
   "id": "f74da49b",
   "metadata": {},
   "source": [
    "# Study Notebook May 8, 2023\n",
    "## Linear Algebra in Python by Patrick Doolittle\n",
    "\n",
    "### Start of project\n",
    "\n",
    "This is where I will showcase the basic functionality of my Linear Algebra in Python application. The goal of which is to make linear algebra calculations and visualizations to learn more about the role of Linear Algebra in Machine Learning and Data Science."
   ]
  },
  {
   "cell_type": "code",
   "execution_count": 1,
   "id": "a57a5874",
   "metadata": {
    "vscode": {
     "languageId": "python"
    }
   },
   "outputs": [
    {
     "data": {
      "text/html": [
       "<pre style=\"white-space:pre;overflow-x:auto;line-height:normal;font-family:Menlo,'DejaVu Sans Mono',consolas,'Courier New',monospace\">Manim Community <span style=\"color: #008000; text-decoration-color: #008000\">v0.17.3</span>\n",
       "\n",
       "</pre>\n"
      ],
      "text/plain": [
       "Manim Community \u001b[32mv0.\u001b[0m\u001b[32m17.3\u001b[0m\n",
       "\n"
      ]
     },
     "metadata": {},
     "output_type": "display_data"
    },
    {
     "name": "stderr",
     "output_type": "stream",
     "text": [
      "UsageError: Line magic function `%%manim` not found.\n"
     ]
    }
   ],
   "source": [
    "from manim import *\n",
    "from Matrix import * \n",
    "from Vector import *\n"
   ]
  },
  {
   "attachments": {},
   "cell_type": "markdown",
   "id": "b1576897",
   "metadata": {
    "scrolled": false
   },
   "source": [
    "### Vectors in $R^n$ \n",
    "Vectors are defined by the command \"Vector(List[float])\". They contain a list of their components, ordered. "
   ]
  },
  {
   "cell_type": "code",
   "execution_count": 4,
   "id": "2ab727da",
   "metadata": {
    "vscode": {
     "languageId": "python"
    }
   },
   "outputs": [],
   "source": [
    "v1 = Vector([1,2,3])\n",
    "v2 = Vector([1,1,1])"
   ]
  },
  {
   "attachments": {},
   "cell_type": "markdown",
   "id": "eb7cbf6a",
   "metadata": {},
   "source": [
    "### Vector operations\n",
    "Vectors can be added together or subtracted to create a new vector of the same dimension. This is done by adding or subtracting the vectors element-wise"
   ]
  },
  {
   "cell_type": "code",
   "execution_count": 5,
   "id": "6c3cd230",
   "metadata": {
    "vscode": {
     "languageId": "python"
    }
   },
   "outputs": [
    {
     "name": "stdout",
     "output_type": "stream",
     "text": [
      "[2.0, 3.0, 4.0]\n",
      "[0.0, 1.0, 2.0]\n"
     ]
    }
   ],
   "source": [
    "v3 = v1 + v2\n",
    "v4 = v1 - v2\n",
    "print(str(v3))\n",
    "print(str(v4))"
   ]
  }
 ],
 "metadata": {
  "kernelspec": {
   "display_name": "Python 3 (ipykernel)",
   "language": "python",
   "name": "python3"
  }
 },
 "nbformat": 4,
 "nbformat_minor": 5
}
