{
 "cells": [
  {
   "cell_type": "markdown",
   "id": "f74da49b",
   "metadata": {},
   "source": [
    "# Study Notebook May 8, 2023\n",
    "## Linear Algebra in Python by Patrick Doolittle\n",
    "\n",
    "### Start of project\n",
    "\n",
    "This is where I will showcase the basic functionality of my Linear Algebra in Python application. The goal of which is to make linear algebra calculations and visualizations to learn more about the role of Linear Algebra in Machine Learning and Data Science."
   ]
  },
  {
   "cell_type": "code",
   "execution_count": 9,
   "id": "a57a5874",
   "metadata": {},
   "outputs": [],
   "source": [
    "from manim import *\n",
    "from Matrix import * \n",
    "from Vector import *"
   ]
  },
  {
   "cell_type": "markdown",
   "id": "b1576897",
   "metadata": {
    "scrolled": false
   },
   "source": [
    "### Vectors in $R^n$ \n",
    "Vectors are defined by the command \"Vector(List[float])\". They contain a list of their components, ordered. "
   ]
  },
  {
   "cell_type": "code",
   "execution_count": 10,
   "id": "2ab727da",
   "metadata": {},
   "outputs": [
    {
     "ename": "AttributeError",
     "evalue": "'Vector' object has no attribute 'elements'",
     "output_type": "error",
     "traceback": [
      "\u001b[1;31m---------------------------------------------------------------------------\u001b[0m",
      "\u001b[1;31mAttributeError\u001b[0m                            Traceback (most recent call last)",
      "Cell \u001b[1;32mIn[10], line 1\u001b[0m\n\u001b[1;32m----> 1\u001b[0m v1 \u001b[38;5;241m=\u001b[39m \u001b[43mVector\u001b[49m\u001b[43m(\u001b[49m\u001b[43m[\u001b[49m\u001b[38;5;241;43m1\u001b[39;49m\u001b[43m,\u001b[49m\u001b[38;5;241;43m2\u001b[39;49m\u001b[43m,\u001b[49m\u001b[38;5;241;43m3\u001b[39;49m\u001b[43m]\u001b[49m\u001b[43m)\u001b[49m\n",
      "File \u001b[1;32m~\\Documents\\GitHub\\py_la\\Vector.py:15\u001b[0m, in \u001b[0;36mVector.__init__\u001b[1;34m(self, elements)\u001b[0m\n\u001b[0;32m     13\u001b[0m \u001b[38;5;28;01mif\u001b[39;00m \u001b[38;5;129;01mnot\u001b[39;00m \u001b[38;5;28misinstance\u001b[39m(elements, \u001b[38;5;28mlist\u001b[39m):\n\u001b[0;32m     14\u001b[0m     \u001b[38;5;28;01mraise\u001b[39;00m \u001b[38;5;167;01mTypeError\u001b[39;00m(\u001b[38;5;124m\"\u001b[39m\u001b[38;5;124melements must be a list\u001b[39m\u001b[38;5;124m\"\u001b[39m)\n\u001b[1;32m---> 15\u001b[0m \u001b[38;5;28;01mif\u001b[39;00m \u001b[38;5;28;43mlen\u001b[39;49m\u001b[43m(\u001b[49m\u001b[38;5;28;43mself\u001b[39;49m\u001b[43m)\u001b[49m \u001b[38;5;241m==\u001b[39m \u001b[38;5;241m0\u001b[39m:\n\u001b[0;32m     16\u001b[0m     \u001b[38;5;28;01mraise\u001b[39;00m \u001b[38;5;167;01mValueError\u001b[39;00m(\u001b[38;5;124m\"\u001b[39m\u001b[38;5;124mVector must have at least one element\u001b[39m\u001b[38;5;124m\"\u001b[39m)\n\u001b[0;32m     17\u001b[0m \u001b[38;5;28;01mtry\u001b[39;00m:\n",
      "File \u001b[1;32m~\\Documents\\GitHub\\py_la\\Vector.py:23\u001b[0m, in \u001b[0;36mVector.__len__\u001b[1;34m(self)\u001b[0m\n\u001b[0;32m     22\u001b[0m \u001b[38;5;28;01mdef\u001b[39;00m \u001b[38;5;21m__len__\u001b[39m(\u001b[38;5;28mself\u001b[39m):\n\u001b[1;32m---> 23\u001b[0m     \u001b[38;5;28;01mreturn\u001b[39;00m \u001b[38;5;28mlen\u001b[39m(\u001b[38;5;28;43mself\u001b[39;49m\u001b[38;5;241;43m.\u001b[39;49m\u001b[43melements\u001b[49m)\n",
      "\u001b[1;31mAttributeError\u001b[0m: 'Vector' object has no attribute 'elements'"
     ]
    }
   ],
   "source": [
    "v1 = Vector([1,2,3])"
   ]
  },
  {
   "cell_type": "code",
   "execution_count": null,
   "id": "197ffe54",
   "metadata": {},
   "outputs": [],
   "source": []
  }
 ],
 "metadata": {
  "kernelspec": {
   "display_name": "Python 3 (ipykernel)",
   "language": "python",
   "name": "python3"
  },
  "language_info": {
   "codemirror_mode": {
    "name": "ipython",
    "version": 3
   },
   "file_extension": ".py",
   "mimetype": "text/x-python",
   "name": "python",
   "nbconvert_exporter": "python",
   "pygments_lexer": "ipython3",
   "version": "3.11.3"
  }
 },
 "nbformat": 4,
 "nbformat_minor": 5
}
